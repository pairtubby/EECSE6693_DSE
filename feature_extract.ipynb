{
 "cells": [
  {
   "cell_type": "markdown",
   "metadata": {},
   "source": [
    "For the AIG Feature Extraction, we will start with 3 most important features \n",
    "\n",
    "- Number of LUT levels in the mapping  (0.124)\n",
    "- Reconvergence value (0.121)\n",
    "- Average of combinational node fan-out (0.100)\n",
    "- Standard deviation of combinational node fan-out (0.099)\n",
    "- Number of combinational nodes (0.089)\n",
    "- Number of nodes (0.083)\n",
    "- Number of edges (0.083)\n",
    "\n",
    "\n"
   ]
  },
  {
   "cell_type": "markdown",
   "metadata": {},
   "source": [
    "https://github.com/DLR-RM/stable-baselines3"
   ]
  },
  {
   "cell_type": "markdown",
   "metadata": {},
   "source": [
    "Define Action Space \n",
    "7 ABC combinational synthesis commands are used: bal- ance, rewrite, rewrite -z, resub, resub -z, refactor and refactor -z (plus undo)\n",
    "\n",
    "1. balancing path lengths\n",
    "2. rewriting AIG subgraphs to minimize their size\n",
    "3. performing resubstitution \n",
    "4. refactoring\n",
    "5. undo"
   ]
  },
  {
   "cell_type": "markdown",
   "metadata": {},
   "source": [
    "Define State Space \n",
    "7 AIG netlist \n"
   ]
  }
 ],
 "metadata": {
  "kernelspec": {
   "display_name": "Python 3",
   "language": "python",
   "name": "python3"
  },
  "language_info": {
   "name": "python",
   "version": "3.9.6"
  }
 },
 "nbformat": 4,
 "nbformat_minor": 2
}
